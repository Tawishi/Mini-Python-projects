{
 "cells": [
  {
   "cell_type": "code",
   "execution_count": null,
   "id": "packed-premiere",
   "metadata": {},
   "outputs": [],
   "source": [
    "import requests\n",
    "import pandas as pd"
   ]
  },
  {
   "cell_type": "code",
   "execution_count": null,
   "id": "eastern-energy",
   "metadata": {},
   "outputs": [],
   "source": [
    "list_of_users = []"
   ]
  },
  {
   "cell_type": "code",
   "execution_count": null,
   "id": "australian-delight",
   "metadata": {},
   "outputs": [],
   "source": [
    "list_of_programs1 = pd.read_html('https://www.spoj.com/users/xilinx/')\n",
    "df1 = list_of_programs1[0].stack().reset_index()\n",
    "pd.set_option('display.max_rows',None)\n",
    "print(df1[0])"
   ]
  },
  {
   "cell_type": "code",
   "execution_count": null,
   "id": "needed-kazakhstan",
   "metadata": {
    "scrolled": false
   },
   "outputs": [],
   "source": [
    "list_of_programs2 = pd.read_html('https://www.spoj.com/users/suh_ash2008/')\n",
    "df2 = list_of_programs2[0].stack().reset_index()\n",
    "pd.set_option('display.max_rows',None)\n",
    "# print(df2[0])"
   ]
  },
  {
   "cell_type": "code",
   "execution_count": null,
   "id": "spiritual-receipt",
   "metadata": {},
   "outputs": [],
   "source": [
    "df3 = pd.merge(df1, df2, how='inner', on=0) # default = \"inner\"\n",
    "# print(df3[0])"
   ]
  },
  {
   "cell_type": "code",
   "execution_count": null,
   "id": "engaging-development",
   "metadata": {},
   "outputs": [],
   "source": [
    "problem_links = []\n",
    "for i in df3[0]:\n",
    "    problem_links.append('https://www.spoj.com/problems/'+i+'/')\n",
    "df4 = pd.DataFrame(problem_links, columns=[\"Links\"])\n",
    "df4.to_excel(\"Nxt problems.xlsx\", sheet_name='Script2') "
   ]
  }
 ],
 "metadata": {
  "kernelspec": {
   "display_name": "Python 3",
   "language": "python",
   "name": "python3"
  },
  "language_info": {
   "codemirror_mode": {
    "name": "ipython",
    "version": 3
   },
   "file_extension": ".py",
   "mimetype": "text/x-python",
   "name": "python",
   "nbconvert_exporter": "python",
   "pygments_lexer": "ipython3",
   "version": "3.8.5"
  }
 },
 "nbformat": 4,
 "nbformat_minor": 5
}
