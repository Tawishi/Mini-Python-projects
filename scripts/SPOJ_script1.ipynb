{
 "cells": [
  {
   "cell_type": "code",
   "execution_count": 1,
   "id": "altered-ethnic",
   "metadata": {},
   "outputs": [],
   "source": [
    "import requests\n",
    "import pandas as pd\n",
    "from bs4 import BeautifulSoup\n",
    "from pprint import pprint"
   ]
  },
  {
   "cell_type": "code",
   "execution_count": 2,
   "id": "taken-response",
   "metadata": {},
   "outputs": [],
   "source": [
    "# get for 1st user\n",
    "r1 = requests.get('https://www.spoj.com/users/xilinx/')\n",
    "page = r1.content\n",
    "soup = BeautifulSoup(page, 'html5lib')\n",
    "problems = soup.find_all('td')\n",
    "problem = [i['href'] for i in soup.find_all('a', href=True)]\n",
    "codes = []\n",
    "for i in range(11,3783):\n",
    "    codes.append(problem[i][8::].split(',')[0])\n",
    "    \n",
    "codes = codes[:-27]\n",
    "df1 = pd.DataFrame(codes, columns=[\"Problems\"])"
   ]
  },
  {
   "cell_type": "code",
   "execution_count": 3,
   "id": "intensive-african",
   "metadata": {},
   "outputs": [],
   "source": [
    "r2 = requests.get('https://www.spoj.com/users/suh_ash2008/')\n",
    "page = r2.content\n",
    "soup = BeautifulSoup(page, 'html5lib')\n",
    "problems = soup.find_all('td')\n",
    "problem = [i['href'] for i in soup.find_all('a', href=True)]\n",
    "\n",
    "codes = []\n",
    "for i in range(11,1298):\n",
    "    codes.append(problem[i][8::].split(',')[0])\n",
    "    \n",
    "codes = codes[:-63]\n",
    "df2 = pd.DataFrame(codes, columns=[\"Problems\"])"
   ]
  },
  {
   "cell_type": "code",
   "execution_count": 4,
   "id": "vietnamese-lender",
   "metadata": {},
   "outputs": [],
   "source": [
    "df3 = pd.merge(df1,df2, how='inner')\n",
    "records = df3.to_records(index=False)\n",
    "result = list(records)"
   ]
  },
  {
   "cell_type": "code",
   "execution_count": 6,
   "id": "mechanical-button",
   "metadata": {},
   "outputs": [],
   "source": [
    "problem_links = []\n",
    "for i in result:\n",
    "    problem_links.append('https://www.spoj.com/problems/'+i[0]+'/')\n",
    "df4 = pd.DataFrame(problem_links, columns=[\"Links\"])\n",
    "df4.to_excel(\"Nxt problems.xlsx\", sheet_name='Script1') "
   ]
  }
 ],
 "metadata": {
  "kernelspec": {
   "display_name": "Python 3",
   "language": "python",
   "name": "python3"
  },
  "language_info": {
   "codemirror_mode": {
    "name": "ipython",
    "version": 3
   },
   "file_extension": ".py",
   "mimetype": "text/x-python",
   "name": "python",
   "nbconvert_exporter": "python",
   "pygments_lexer": "ipython3",
   "version": "3.8.5"
  }
 },
 "nbformat": 4,
 "nbformat_minor": 5
}
