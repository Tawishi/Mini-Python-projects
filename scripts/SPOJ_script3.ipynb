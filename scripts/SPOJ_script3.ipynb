{
 "cells": [
  {
   "cell_type": "code",
   "execution_count": 1,
   "id": "pleased-afghanistan",
   "metadata": {},
   "outputs": [],
   "source": [
    "# shorter script testing...\n",
    "\n",
    "import requests\n",
    "import pandas as pd\n",
    "from bs4 import BeautifulSoup\n",
    "from functools import reduce\n",
    "from pprint import pprint\n",
    "\n",
    "df = []\n",
    "problem_links = []\n",
    "def get_programs_list(url:str) :\n",
    "    list_of_programs = pd.read_html(url)\n",
    "    data = list_of_programs[0].stack().reset_index()\n",
    "    df.append(pd.DataFrame(data[0]))\n",
    "    # print([type(df[i]) for i in range(len(df))])\n",
    "    \n",
    "def programs_to_do() :\n",
    "    data_frames = [df[0], df[1],df[2],df[3],df[4],df[5],df[6],df[7],df[8],df[9],df[10]]\n",
    "    common_problems = reduce(lambda  left,right: pd.merge(left,right,on=[0], how='inner'), data_frames)\n",
    "    for i in common_problems[0]:\n",
    "        problem_links.append('https://www.spoj.com/problems/'+i+'/')\n",
    "    pd.DataFrame(problem_links, columns=[\"Links\"]).to_excel(\"Nxt problems.xlsx\", sheet_name='Script2') \n",
    "\n",
    "page = requests.get('https://www.spoj.com/ranks/users/').content\n",
    "soup = BeautifulSoup(page, 'html5lib')\n",
    "users = [i['href'] for i in soup.find_all('a', href=True)]\n",
    "user_profile_links = [s for s in users if '/users/' in s]\n",
    "urls = []\n",
    "for i in range(11):\n",
    "    urls.append('https://www.spoj.com' + user_profile_links[i])\n",
    "\n",
    "length = len(urls)\n",
    "i=0\n",
    "while length > i:\n",
    "#     pprint(urls[i])\n",
    "    get_programs_list(urls[i])\n",
    "    i += 1\n",
    "programs_to_do()"
   ]
  },
  {
   "cell_type": "code",
   "execution_count": 3,
   "id": "palestinian-prescription",
   "metadata": {},
   "outputs": [
    {
     "name": "stdout",
     "output_type": "stream",
     "text": [
      "Solved the problem? (1/0)0\n"
     ]
    }
   ],
   "source": [
    "# getting and opening today's problems\n",
    "import webbrowser\n",
    "i = 0\n",
    "next = 'Y'\n",
    "while next == 'y' or next == 'Y':\n",
    "    webbrowser.open(problem_links[i])\n",
    "    is_done = 0\n",
    "    is_done = int(input(\"Solved the problem? (1/0)\"))\n",
    "    if is_done == 1:\n",
    "        i = i+1\n",
    "        next = input(\"Next? (y/n)\")\n",
    "        continue\n",
    "    else :\n",
    "        next = 'N'\n",
    "#     if next == 'n' or next == 'N':"
   ]
  }
 ],
 "metadata": {
  "kernelspec": {
   "display_name": "Python 3",
   "language": "python",
   "name": "python3"
  },
  "language_info": {
   "codemirror_mode": {
    "name": "ipython",
    "version": 3
   },
   "file_extension": ".py",
   "mimetype": "text/x-python",
   "name": "python",
   "nbconvert_exporter": "python",
   "pygments_lexer": "ipython3",
   "version": "3.8.5"
  }
 },
 "nbformat": 4,
 "nbformat_minor": 5
}
