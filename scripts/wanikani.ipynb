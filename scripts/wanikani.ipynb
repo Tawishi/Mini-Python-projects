{
 "cells": [
  {
   "cell_type": "code",
   "execution_count": null,
   "id": "healthy-citation",
   "metadata": {},
   "outputs": [],
   "source": [
    "# import requests\n",
    "import requests\n",
    "import pandas as pd\n",
    "from bs4 import BeautifulSoup\n",
    "from pprint import pprint\n",
    "\n",
    "r = requests.get('https://www.spoj.com/users/xilinx/')\n",
    "page = r.content\n",
    "soup = BeautifulSoup(page, 'html5lib')\n",
    "problem = [i['href'] for i in soup.find_all('a', href=True)]\n",
    "# print(type(problem))\n",
    "# pprint(problem)\n",
    "# print(len(problem)) #3783\n",
    "codes = []\n",
    "for i in range(11,3783):\n",
    "#     pprint(problem[i][8::].split(',')[0])\n",
    "    codes.append(problem[i][8::].split(',')[0])\n",
    "    \n",
    "codes = codes[:-27]\n",
    "df1 = pd.DataFrame(codes, columns=[\"Problems\"])\n",
    "# print(df.tail(28))"
   ]
  },
  {
   "cell_type": "code",
   "execution_count": null,
   "id": "political-likelihood",
   "metadata": {},
   "outputs": [],
   "source": [
    "# import requests\n",
    "import pandas as pd\n",
    "from bs4 import BeautifulSoup\n",
    "from pprint import pprint\n",
    "\n",
    "r = requests.get('https://www.spoj.com/users/suh_ash2008/')\n",
    "page = r.content\n",
    "soup = BeautifulSoup(page, 'html5lib')\n",
    "problems = soup.find_all('td')\n",
    "problem = [i['href'] for i in soup.find_all('a', href=True)]\n",
    "\n",
    "# print(len(problem)) #1298\n",
    "codes = []\n",
    "for i in range(11,1298):\n",
    "#     pprint(problem[i][8::].split(',')[0])\n",
    "    codes.append(problem[i][8::].split(',')[0])\n",
    "    \n",
    "codes = codes[:-63]\n",
    "df2 = pd.DataFrame(codes, columns=[\"Problems\"])\n",
    "# print(df.tail(10))"
   ]
  },
  {
   "cell_type": "code",
   "execution_count": null,
   "id": "greatest-civilian",
   "metadata": {
    "scrolled": true
   },
   "outputs": [],
   "source": [
    "df3 = pd.merge(df1,df2, how='inner')\n",
    "# print(df3.head(20))\n",
    "records = df3.to_records(index=False)\n",
    "result = list(records)\n",
    "# print(result[0][0])"
   ]
  },
  {
   "cell_type": "code",
   "execution_count": null,
   "id": "boxed-spine",
   "metadata": {
    "scrolled": true
   },
   "outputs": [],
   "source": [
    "problem_links = []\n",
    "for i in result:\n",
    "#     print(i[0])\n",
    "    problem_links.append('https://www.spoj.com/problems/'+i[0]+'/')\n",
    "# pprint(problem_links)\n",
    "df4 = pd.DataFrame(problem_links, columns=[\"Links\"])\n",
    "print(df4)\n",
    "df4.to_excel(\"Nxt problems.xlsx\", sheet_name='') "
   ]
  },
  {
   "cell_type": "code",
   "execution_count": null,
   "id": "heavy-rebecca",
   "metadata": {
    "scrolled": true
   },
   "outputs": [],
   "source": [
    "list_of_programs = pd.read_html('https://www.spoj.com/users/xilinx/')\n",
    "print(list_of_programs[0]) # done programs\n",
    "print(len(list_of_programs))"
   ]
  },
  {
   "cell_type": "code",
   "execution_count": null,
   "id": "northern-weight",
   "metadata": {
    "scrolled": true
   },
   "outputs": [],
   "source": [
    "print(type(list_of_programs[0]))\n",
    "df = list_of_programs[0].stack().reset_index()\n",
    "pd.set_option('display.max_rows',None)\n",
    "print(df[0])"
   ]
  },
  {
   "cell_type": "code",
   "execution_count": null,
   "id": "chinese-incident",
   "metadata": {
    "scrolled": false
   },
   "outputs": [],
   "source": [
    "# getting ranked people\n",
    "import requests\n",
    "import pandas as pd\n",
    "\n",
    "list_of_programs = pd.read_html('https://www.spoj.com/ranks/users/')\n",
    "# print(list_of_programs)\n",
    "\n",
    "df = list_of_programs[0].stack().reset_index()\n",
    "pd.set_option('display.max_rows',None)\n",
    "print(df)"
   ]
  },
  {
   "cell_type": "code",
   "execution_count": null,
   "id": "legitimate-anger",
   "metadata": {},
   "outputs": [],
   "source": [
    "import requests\n",
    "import pandas as pd\n",
    "from bs4 import BeautifulSoup\n",
    "from pprint import pprint\n",
    "\n",
    "page = requests.get('https://www.spoj.com/ranks/users/').content\n",
    "soup = BeautifulSoup(page, 'html5lib')\n",
    "users = [i['href'] for i in soup.find_all('a', href=True)]\n",
    "user_profile_links = [s for s in users if '/users/' in s]\n",
    "# pprint(user_profile_links)\n",
    "# pprint([s for s in user_profile_links if '/users/' in s])\n",
    "pprint(user_profile_links)"
   ]
  }
 ],
 "metadata": {
  "kernelspec": {
   "display_name": "Python 3",
   "language": "python",
   "name": "python3"
  },
  "language_info": {
   "codemirror_mode": {
    "name": "ipython",
    "version": 3
   },
   "file_extension": ".py",
   "mimetype": "text/x-python",
   "name": "python",
   "nbconvert_exporter": "python",
   "pygments_lexer": "ipython3",
   "version": "3.8.5"
  }
 },
 "nbformat": 4,
 "nbformat_minor": 5
}
