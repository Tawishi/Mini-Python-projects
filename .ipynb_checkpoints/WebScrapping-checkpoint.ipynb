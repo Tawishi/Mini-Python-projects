{
 "cells": [
  {
   "cell_type": "code",
   "execution_count": 2,
   "id": "thermal-worry",
   "metadata": {},
   "outputs": [
    {
     "data": {
      "text/html": [
       "<div>\n",
       "<style scoped>\n",
       "    .dataframe tbody tr th:only-of-type {\n",
       "        vertical-align: middle;\n",
       "    }\n",
       "\n",
       "    .dataframe tbody tr th {\n",
       "        vertical-align: top;\n",
       "    }\n",
       "\n",
       "    .dataframe thead th {\n",
       "        text-align: right;\n",
       "    }\n",
       "</style>\n",
       "<table border=\"1\" class=\"dataframe\">\n",
       "  <thead>\n",
       "    <tr style=\"text-align: right;\">\n",
       "      <th></th>\n",
       "      <th>Links</th>\n",
       "    </tr>\n",
       "    <tr>\n",
       "      <th>Headlines</th>\n",
       "      <th></th>\n",
       "    </tr>\n",
       "  </thead>\n",
       "  <tbody>\n",
       "    <tr>\n",
       "      <th>Rethink Our Relationship With Nature</th>\n",
       "      <td>/en/climatechange/article-one-planet-summit</td>\n",
       "    </tr>\n",
       "    <tr>\n",
       "      <th>The Climate Promise Starts to Deliver</th>\n",
       "      <td>/en/climatechange/ndc-report-2020</td>\n",
       "    </tr>\n",
       "    <tr>\n",
       "      <th>A New Measure of Human Progress</th>\n",
       "      <td>/en/climatechange/hdr-2020</td>\n",
       "    </tr>\n",
       "    <tr>\n",
       "      <th>Achieve the Finance Goal</th>\n",
       "      <td>/en/climatechange/100bn-finance-goal</td>\n",
       "    </tr>\n",
       "    <tr>\n",
       "      <th>2020 Young Champions of the Earth</th>\n",
       "      <td>/en/climatechange/young-champion-2020</td>\n",
       "    </tr>\n",
       "    <tr>\n",
       "      <th>The Blue Goes Green</th>\n",
       "      <td>/en/climatechange/greening-the-blue-2020</td>\n",
       "    </tr>\n",
       "  </tbody>\n",
       "</table>\n",
       "</div>"
      ],
      "text/plain": [
       "                                                                             Links\n",
       "Headlines                                                                         \n",
       "Rethink Our Relationship With Nature   /en/climatechange/article-one-planet-summit\n",
       "The Climate Promise Starts to Deliver            /en/climatechange/ndc-report-2020\n",
       "A New Measure of Human Progress                         /en/climatechange/hdr-2020\n",
       "Achieve the Finance Goal                      /en/climatechange/100bn-finance-goal\n",
       "2020 Young Champions of the Earth            /en/climatechange/young-champion-2020\n",
       "The Blue Goes Green                       /en/climatechange/greening-the-blue-2020"
      ]
     },
     "execution_count": 2,
     "metadata": {},
     "output_type": "execute_result"
    }
   ],
   "source": [
    "import requests\n",
    "import pandas as pd\n",
    "from bs4 import BeautifulSoup\n",
    "\n",
    "r = requests.get('https://www.un.org/en/climatechange/climate-solutions')\n",
    "page = r.content\n",
    "soup = BeautifulSoup(page,'html5lib')\n",
    "news = soup.find_all('h3')\n",
    "\n",
    "d={}\n",
    "for i in range(1,7):\n",
    "    links = news[i].find_all('a')\n",
    "    d[str(news[i].get_text())] = str(links[0]['href'])\n",
    "    \n",
    "df = pd.DataFrame\n",
    "df = pd.DataFrame(list(d.items()),columns=[\"Headlines\",\"Links\"])\n",
    "df.set_index('Headlines',inplace=True)\n",
    "df"
   ]
  },
  {
   "cell_type": "code",
   "execution_count": null,
   "id": "alike-seeking",
   "metadata": {},
   "outputs": [],
   "source": []
  }
 ],
 "metadata": {
  "kernelspec": {
   "display_name": "Python 3",
   "language": "python",
   "name": "python3"
  },
  "language_info": {
   "codemirror_mode": {
    "name": "ipython",
    "version": 3
   },
   "file_extension": ".py",
   "mimetype": "text/x-python",
   "name": "python",
   "nbconvert_exporter": "python",
   "pygments_lexer": "ipython3",
   "version": "3.8.5"
  }
 },
 "nbformat": 4,
 "nbformat_minor": 5
}
